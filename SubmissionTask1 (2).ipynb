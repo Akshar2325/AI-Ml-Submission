{
  "nbformat": 4,
  "nbformat_minor": 0,
  "metadata": {
    "colab": {
      "provenance": []
    },
    "kernelspec": {
      "name": "python3",
      "display_name": "Python 3"
    },
    "language_info": {
      "name": "python"
    }
  },
  "cells": [
    {
      "cell_type": "code",
      "execution_count": 12,
      "metadata": {
        "id": "645xbKw0pYdu"
      },
      "outputs": [],
      "source": [
        "import pandas as pd"
      ]
    },
    {
      "cell_type": "code",
      "source": [
        "data_frame = pd.read_csv('/content/ML_study_jam.csv')"
      ],
      "metadata": {
        "id": "CcdpTB7ypzxK"
      },
      "execution_count": 13,
      "outputs": []
    },
    {
      "cell_type": "code",
      "source": [
        "a = data_frame.shape\n",
        "print(\"Shape of data:\", a)"
      ],
      "metadata": {
        "colab": {
          "base_uri": "https://localhost:8080/"
        },
        "id": "H2WWaJsQp6WA",
        "outputId": "3942bdd1-1eec-40dd-c7be-96fd5cad7306"
      },
      "execution_count": 14,
      "outputs": [
        {
          "output_type": "stream",
          "name": "stdout",
          "text": [
            "Shape of data: (590, 5)\n"
          ]
        }
      ]
    },
    {
      "cell_type": "code",
      "source": [
        "b = len(data_frame.columns)\n",
        "print(\"Number of columns:\", b)"
      ],
      "metadata": {
        "colab": {
          "base_uri": "https://localhost:8080/"
        },
        "id": "t7EkcjMEp863",
        "outputId": "ff7addff-7c75-4170-fad7-1153f9931d1d"
      },
      "execution_count": 15,
      "outputs": [
        {
          "output_type": "stream",
          "name": "stdout",
          "text": [
            "Number of columns: 5\n"
          ]
        }
      ]
    },
    {
      "cell_type": "code",
      "source": [
        "c = data_frame.mean()\n",
        "print(\"Mean of data:\\n\", c)"
      ],
      "metadata": {
        "colab": {
          "base_uri": "https://localhost:8080/"
        },
        "id": "8xyLzy2ZqB3S",
        "outputId": "c72d7345-4670-48e4-f7b6-d62219c28baf"
      },
      "execution_count": 16,
      "outputs": [
        {
          "output_type": "stream",
          "name": "stdout",
          "text": [
            "Mean of data:\n",
            " Store ID                  295.369048\n",
            "Store_Area               1482.250426\n",
            "Items_Available          1775.050086\n",
            "Daily_Customer_Count      785.807229\n",
            "Store_Sales             58223.865979\n",
            "dtype: float64\n"
          ]
        }
      ]
    },
    {
      "cell_type": "code",
      "source": [
        "d = 'Store_Area'\n",
        "splitted_data = data_frame.groupby(d)"
      ],
      "metadata": {
        "id": "eXOsuazlqFI9"
      },
      "execution_count": 17,
      "outputs": []
    },
    {
      "cell_type": "code",
      "source": [
        "e = 'Store ID '\n",
        "indexed_data = data_frame.set_index(e)"
      ],
      "metadata": {
        "id": "xUsGKAVMqx-W"
      },
      "execution_count": 18,
      "outputs": []
    },
    {
      "cell_type": "code",
      "source": [
        "top_10_rows = data_frame.head(10)\n",
        "print(\"Top 10 rows of data:\\n\", top_10_rows)"
      ],
      "metadata": {
        "colab": {
          "base_uri": "https://localhost:8080/"
        },
        "id": "X8TWOOy2rBzf",
        "outputId": "50e7c65c-2642-4318-f7f3-7831033fe430"
      },
      "execution_count": 19,
      "outputs": [
        {
          "output_type": "stream",
          "name": "stdout",
          "text": [
            "Top 10 rows of data:\n",
            "    Store ID   Store_Area  Items_Available  Daily_Customer_Count  Store_Sales\n",
            "0        1.0      1659.0           1961.0                 530.0      66490.0\n",
            "1        2.0      1461.0           1752.0                 210.0      39820.0\n",
            "2        3.0      1340.0           1609.0                 720.0      54010.0\n",
            "3        4.0      1451.0           1748.0                 620.0      53730.0\n",
            "4        5.0      1770.0           2111.0                 450.0      46620.0\n",
            "5        6.0      1442.0           1733.0                 760.0      45260.0\n",
            "6        7.0      1542.0           1858.0                1030.0      72240.0\n",
            "7        8.0      1261.0           1507.0                1020.0      37720.0\n",
            "8        9.0      1090.0           1321.0                 680.0      46310.0\n",
            "9       10.0      1030.0           1235.0                1130.0      44150.0\n"
          ]
        }
      ]
    },
    {
      "cell_type": "code",
      "source": [],
      "metadata": {
        "id": "OWyY8tV5rerO"
      },
      "execution_count": null,
      "outputs": []
    }
  ]
}