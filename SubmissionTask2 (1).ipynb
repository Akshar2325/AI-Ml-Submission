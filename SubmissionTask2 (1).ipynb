{
  "nbformat": 4,
  "nbformat_minor": 0,
  "metadata": {
    "colab": {
      "provenance": []
    },
    "kernelspec": {
      "name": "python3",
      "display_name": "Python 3"
    },
    "language_info": {
      "name": "python"
    }
  },
  "cells": [
    {
      "cell_type": "code",
      "execution_count": 1,
      "metadata": {
        "id": "xJ8kq4dqr696"
      },
      "outputs": [],
      "source": [
        "import pandas as pd"
      ]
    },
    {
      "cell_type": "code",
      "source": [
        "data_frame = pd.read_csv('/content/ML_study_jam.csv')"
      ],
      "metadata": {
        "id": "21T60BG_saTs"
      },
      "execution_count": 2,
      "outputs": []
    },
    {
      "cell_type": "code",
      "source": [
        "print(\"Initial data with missing values:\")\n",
        "print(data_frame)"
      ],
      "metadata": {
        "colab": {
          "base_uri": "https://localhost:8080/"
        },
        "id": "fCO_K_4nslwM",
        "outputId": "d3493335-14f1-438b-b60f-6a0e0f2d42e9"
      },
      "execution_count": 3,
      "outputs": [
        {
          "output_type": "stream",
          "name": "stdout",
          "text": [
            "Initial data with missing values:\n",
            "     Store ID   Store_Area  Items_Available  Daily_Customer_Count  Store_Sales\n",
            "0          1.0      1659.0           1961.0                 530.0      66490.0\n",
            "1          2.0      1461.0           1752.0                 210.0      39820.0\n",
            "2          3.0      1340.0           1609.0                 720.0      54010.0\n",
            "3          4.0      1451.0           1748.0                 620.0      53730.0\n",
            "4          5.0      1770.0           2111.0                 450.0      46620.0\n",
            "..         ...         ...              ...                   ...          ...\n",
            "585      586.0      1227.0           1476.0                 720.0      56260.0\n",
            "586      587.0      1609.0           1930.0                 740.0      76470.0\n",
            "587      588.0      1553.0           1831.0                 740.0      35680.0\n",
            "588      589.0      1814.0           2174.0                 770.0      90070.0\n",
            "589      590.0      1240.0           1493.0                 590.0      33120.0\n",
            "\n",
            "[590 rows x 5 columns]\n"
          ]
        }
      ]
    },
    {
      "cell_type": "code",
      "source": [
        "a = data_frame.dropna()\n",
        "print(\"\\nData with rows/attributes removed:\")\n",
        "print(a)"
      ],
      "metadata": {
        "colab": {
          "base_uri": "https://localhost:8080/"
        },
        "id": "bzdIQGynstW6",
        "outputId": "8f89b093-8afb-487c-af79-17448bba4f35"
      },
      "execution_count": 4,
      "outputs": [
        {
          "output_type": "stream",
          "name": "stdout",
          "text": [
            "\n",
            "Data with rows/attributes removed:\n",
            "     Store ID   Store_Area  Items_Available  Daily_Customer_Count  Store_Sales\n",
            "0          1.0      1659.0           1961.0                 530.0      66490.0\n",
            "1          2.0      1461.0           1752.0                 210.0      39820.0\n",
            "2          3.0      1340.0           1609.0                 720.0      54010.0\n",
            "3          4.0      1451.0           1748.0                 620.0      53730.0\n",
            "4          5.0      1770.0           2111.0                 450.0      46620.0\n",
            "..         ...         ...              ...                   ...          ...\n",
            "585      586.0      1227.0           1476.0                 720.0      56260.0\n",
            "586      587.0      1609.0           1930.0                 740.0      76470.0\n",
            "587      588.0      1553.0           1831.0                 740.0      35680.0\n",
            "588      589.0      1814.0           2174.0                 770.0      90070.0\n",
            "589      590.0      1240.0           1493.0                 590.0      33120.0\n",
            "\n",
            "[563 rows x 5 columns]\n"
          ]
        }
      ]
    },
    {
      "cell_type": "code",
      "source": [
        "b = data_frame.fillna(data_frame.mean())\n",
        "print(\"\\nData with missing values replaced by mean:\")\n",
        "print(b)"
      ],
      "metadata": {
        "colab": {
          "base_uri": "https://localhost:8080/"
        },
        "id": "FcaXy67ksxbI",
        "outputId": "48339d2e-9d90-44da-8c13-46917c875a43"
      },
      "execution_count": 5,
      "outputs": [
        {
          "output_type": "stream",
          "name": "stdout",
          "text": [
            "\n",
            "Data with missing values replaced by mean:\n",
            "     Store ID   Store_Area  Items_Available  Daily_Customer_Count  Store_Sales\n",
            "0          1.0      1659.0           1961.0                 530.0      66490.0\n",
            "1          2.0      1461.0           1752.0                 210.0      39820.0\n",
            "2          3.0      1340.0           1609.0                 720.0      54010.0\n",
            "3          4.0      1451.0           1748.0                 620.0      53730.0\n",
            "4          5.0      1770.0           2111.0                 450.0      46620.0\n",
            "..         ...         ...              ...                   ...          ...\n",
            "585      586.0      1227.0           1476.0                 720.0      56260.0\n",
            "586      587.0      1609.0           1930.0                 740.0      76470.0\n",
            "587      588.0      1553.0           1831.0                 740.0      35680.0\n",
            "588      589.0      1814.0           2174.0                 770.0      90070.0\n",
            "589      590.0      1240.0           1493.0                 590.0      33120.0\n",
            "\n",
            "[590 rows x 5 columns]\n"
          ]
        }
      ]
    },
    {
      "cell_type": "code",
      "source": [
        "c = data_frame.fillna(data_frame.mode().iloc[0])\n",
        "print(\"\\nData with missing values replaced by mode:\")\n",
        "print(c)"
      ],
      "metadata": {
        "colab": {
          "base_uri": "https://localhost:8080/"
        },
        "id": "uJRwawAsszja",
        "outputId": "a0641354-2821-4419-e801-ebd362457219"
      },
      "execution_count": 6,
      "outputs": [
        {
          "output_type": "stream",
          "name": "stdout",
          "text": [
            "\n",
            "Data with missing values replaced by mode:\n",
            "     Store ID   Store_Area  Items_Available  Daily_Customer_Count  Store_Sales\n",
            "0          1.0      1659.0           1961.0                 530.0      66490.0\n",
            "1          2.0      1461.0           1752.0                 210.0      39820.0\n",
            "2          3.0      1340.0           1609.0                 720.0      54010.0\n",
            "3          4.0      1451.0           1748.0                 620.0      53730.0\n",
            "4          5.0      1770.0           2111.0                 450.0      46620.0\n",
            "..         ...         ...              ...                   ...          ...\n",
            "585      586.0      1227.0           1476.0                 720.0      56260.0\n",
            "586      587.0      1609.0           1930.0                 740.0      76470.0\n",
            "587      588.0      1553.0           1831.0                 740.0      35680.0\n",
            "588      589.0      1814.0           2174.0                 770.0      90070.0\n",
            "589      590.0      1240.0           1493.0                 590.0      33120.0\n",
            "\n",
            "[590 rows x 5 columns]\n"
          ]
        }
      ]
    },
    {
      "cell_type": "code",
      "source": [
        "threshold = 2  # Example threshold value"
      ],
      "metadata": {
        "id": "Eh-TjIpJs3BQ"
      },
      "execution_count": 8,
      "outputs": []
    },
    {
      "cell_type": "code",
      "source": [
        "data_frame_removed_threshold = data_frame.dropna(thresh=threshold)\n",
        "print(\"\\nData with rows removed beyond threshold:\")\n",
        "print(data_frame_removed_threshold)"
      ],
      "metadata": {
        "id": "g1J4xcRms5jN",
        "outputId": "65be74c3-f4d4-4f3a-b862-bed86bb87e24",
        "colab": {
          "base_uri": "https://localhost:8080/"
        }
      },
      "execution_count": 12,
      "outputs": [
        {
          "output_type": "stream",
          "name": "stdout",
          "text": [
            "\n",
            "Data with rows removed beyond threshold:\n",
            "     Store ID   Store_Area  Items_Available  Daily_Customer_Count  Store_Sales\n",
            "0          1.0      1659.0           1961.0                 530.0      66490.0\n",
            "1          2.0      1461.0           1752.0                 210.0      39820.0\n",
            "2          3.0      1340.0           1609.0                 720.0      54010.0\n",
            "3          4.0      1451.0           1748.0                 620.0      53730.0\n",
            "4          5.0      1770.0           2111.0                 450.0      46620.0\n",
            "..         ...         ...              ...                   ...          ...\n",
            "585      586.0      1227.0           1476.0                 720.0      56260.0\n",
            "586      587.0      1609.0           1930.0                 740.0      76470.0\n",
            "587      588.0      1553.0           1831.0                 740.0      35680.0\n",
            "588      589.0      1814.0           2174.0                 770.0      90070.0\n",
            "589      590.0      1240.0           1493.0                 590.0      33120.0\n",
            "\n",
            "[590 rows x 5 columns]\n"
          ]
        }
      ]
    },
    {
      "cell_type": "code",
      "source": [
        "data_frame_replaced_threshold = data_frame.fillna(value='Threshold Exceeded', limit=threshold)\n",
        "print(\"\\nData with missing values replaced beyond threshold:\")\n",
        "print(data_frame_replaced_threshold)"
      ],
      "metadata": {
        "id": "01DFwcKIs7nK",
        "outputId": "d573df7a-f378-4759-8de4-25597e76a4a6",
        "colab": {
          "base_uri": "https://localhost:8080/"
        }
      },
      "execution_count": 13,
      "outputs": [
        {
          "output_type": "stream",
          "name": "stdout",
          "text": [
            "\n",
            "Data with missing values replaced beyond threshold:\n",
            "    Store ID  Store_Area Items_Available Daily_Customer_Count Store_Sales\n",
            "0         1.0     1659.0          1961.0                530.0     66490.0\n",
            "1         2.0     1461.0          1752.0                210.0     39820.0\n",
            "2         3.0     1340.0          1609.0                720.0     54010.0\n",
            "3         4.0     1451.0          1748.0                620.0     53730.0\n",
            "4         5.0     1770.0          2111.0                450.0     46620.0\n",
            "..        ...        ...             ...                  ...         ...\n",
            "585     586.0     1227.0          1476.0                720.0     56260.0\n",
            "586     587.0     1609.0          1930.0                740.0     76470.0\n",
            "587     588.0     1553.0          1831.0                740.0     35680.0\n",
            "588     589.0     1814.0          2174.0                770.0     90070.0\n",
            "589     590.0     1240.0          1493.0                590.0     33120.0\n",
            "\n",
            "[590 rows x 5 columns]\n"
          ]
        }
      ]
    }
  ]
}